{
 "cells": [
  {
   "cell_type": "markdown",
   "id": "scheduled-butler",
   "metadata": {},
   "source": [
    "# PS 10"
   ]
  },
  {
   "cell_type": "markdown",
   "id": "romance-swimming",
   "metadata": {},
   "source": [
    "### make a list from user input\n",
    "* write function that prompts for stock symbols\n",
    "* adds to list\n",
    "* stops when no symbol (empty string) entered\n",
    "* returns list of unique stock symbols"
   ]
  },
  {
   "cell_type": "code",
   "execution_count": 3,
   "id": "substantial-alloy",
   "metadata": {},
   "outputs": [],
   "source": [
    "def ticker_list():\n",
    "    symbols = []\n",
    "    symbol = input(\"Enter a stock symbol: \")\n",
    "    while symbol != '':\n",
    "        if symbol not in symbols:\n",
    "            symbols.append(symbol.upper())\n",
    "        symbol = input(\"Enter a stock symbol: \")    \n",
    "    return sorted(symbols)       "
   ]
  },
  {
   "cell_type": "code",
   "execution_count": 4,
   "id": "polyphonic-making",
   "metadata": {},
   "outputs": [
    {
     "name": "stdout",
     "output_type": "stream",
     "text": [
      "Enter a stock symbol: nvda\n",
      "Enter a stock symbol: vici\n",
      "Enter a stock symbol: gme\n",
      "Enter a stock symbol: fb\n",
      "Enter a stock symbol: slv\n",
      "Enter a stock symbol: \n"
     ]
    },
    {
     "data": {
      "text/plain": [
       "['FB', 'GME', 'NVDA', 'SLV', 'VICI']"
      ]
     },
     "execution_count": 4,
     "metadata": {},
     "output_type": "execute_result"
    }
   ],
   "source": [
    "ticker_list()"
   ]
  },
  {
   "cell_type": "markdown",
   "id": "irish-russell",
   "metadata": {},
   "source": [
    "### clean a string"
   ]
  },
  {
   "cell_type": "code",
   "execution_count": 5,
   "id": "invalid-jewel",
   "metadata": {},
   "outputs": [
    {
     "name": "stdout",
     "output_type": "stream",
     "text": [
      "Enter string to be cleaned: To be, or not to be?\n"
     ]
    },
    {
     "data": {
      "text/plain": [
       "'To be or not to be'"
      ]
     },
     "execution_count": 5,
     "metadata": {},
     "output_type": "execute_result"
    }
   ],
   "source": [
    "usr_str = input(\"Enter string to be cleaned: \")\n",
    "def clean_string(usr_str):\n",
    "    punctuation = '.,:;!?\" '\n",
    "    for mark in punctuation:\n",
    "        usr_str = usr_str.replace(mark, '')\n",
    "    return usr_str\n",
    "clean_string(usr_str)"
   ]
  },
  {
   "cell_type": "code",
   "execution_count": 10,
   "id": "greater-visit",
   "metadata": {},
   "outputs": [],
   "source": [
    "data = clean_string(\"To be, or not to be!\")"
   ]
  },
  {
   "cell_type": "code",
   "execution_count": 11,
   "id": "soviet-arrow",
   "metadata": {},
   "outputs": [
    {
     "data": {
      "text/plain": [
       "'To be or not to be'"
      ]
     },
     "execution_count": 11,
     "metadata": {},
     "output_type": "execute_result"
    }
   ],
   "source": [
    "data"
   ]
  },
  {
   "cell_type": "code",
   "execution_count": 14,
   "id": "fourth-surgeon",
   "metadata": {},
   "outputs": [],
   "source": [
    "def is_anagram(string1, string2):\n",
    "    anagram_bool = True\n",
    "    for letter in string2:\n",
    "        if letter not in string1:\n",
    "            anagram_bool = False\n",
    "    return anagram_bool    "
   ]
  },
  {
   "cell_type": "code",
   "execution_count": 17,
   "id": "pursuant-helena",
   "metadata": {},
   "outputs": [
    {
     "data": {
      "text/plain": [
       "True"
      ]
     },
     "execution_count": 17,
     "metadata": {},
     "output_type": "execute_result"
    }
   ],
   "source": [
    "is_anagram(\"crebit card\", \"bad credit\")"
   ]
  },
  {
   "cell_type": "code",
   "execution_count": 18,
   "id": "compliant-housing",
   "metadata": {},
   "outputs": [],
   "source": [
    "def is_anagram(string1, string2):\n",
    "    if sorted(string1) == sorted(string2):\n",
    "        return True\n",
    "    else:\n",
    "        return False"
   ]
  },
  {
   "cell_type": "code",
   "execution_count": 22,
   "id": "miniature-resource",
   "metadata": {},
   "outputs": [
    {
     "data": {
      "text/plain": [
       "True"
      ]
     },
     "execution_count": 22,
     "metadata": {},
     "output_type": "execute_result"
    }
   ],
   "source": [
    "is_anagram(\"debit card\", \"bad credit\")"
   ]
  },
  {
   "cell_type": "code",
   "execution_count": 21,
   "id": "higher-director",
   "metadata": {},
   "outputs": [
    {
     "data": {
      "text/plain": [
       "[' ', 'a', 'c', 'c', 'd', 'd', 'e', 'i', 'r', 'r', 't']"
      ]
     },
     "execution_count": 21,
     "metadata": {},
     "output_type": "execute_result"
    }
   ],
   "source": [
    "sorted(\"credit card\")"
   ]
  },
  {
   "cell_type": "code",
   "execution_count": 23,
   "id": "gorgeous-cisco",
   "metadata": {},
   "outputs": [],
   "source": [
    "def is_anagram(string1, string2):\n",
    "    string1 = [letter for letter in string1 if letter != '']\n",
    "    string1.sort()\n",
    "    string2 = [letter for letter in string2 if letter != '']\n",
    "    string2.sort()\n",
    "    return string1 == string2"
   ]
  },
  {
   "cell_type": "code",
   "execution_count": 24,
   "id": "decent-reducing",
   "metadata": {},
   "outputs": [
    {
     "data": {
      "text/plain": [
       "True"
      ]
     },
     "execution_count": 24,
     "metadata": {},
     "output_type": "execute_result"
    }
   ],
   "source": [
    "is_anagram(\"debit card\", \"bad credit\")"
   ]
  },
  {
   "cell_type": "markdown",
   "id": "varied-retro",
   "metadata": {},
   "source": [
    "### vowel substitution"
   ]
  },
  {
   "cell_type": "code",
   "execution_count": 25,
   "id": "invalid-touch",
   "metadata": {},
   "outputs": [],
   "source": [
    "def replace_vowels(string):\n",
    "    new_text = []\n",
    "    for letter in string:\n",
    "        letter = letter.replace(\"a\", str(4))\n",
    "        letter = letter.replace(\"e\", str(3))\n",
    "        letter = letter.replace(\"i\", str(1))\n",
    "        letter = letter.replace(\"o\", str(0))\n",
    "        letter = letter.replace(\"u\", str(8))\n",
    "        new_text.append(letter)\n",
    "    return \"\".join(new_text)    "
   ]
  },
  {
   "cell_type": "code",
   "execution_count": 26,
   "id": "framed-prototype",
   "metadata": {},
   "outputs": [
    {
     "data": {
      "text/plain": [
       "'B3nj4m1n'"
      ]
     },
     "execution_count": 26,
     "metadata": {},
     "output_type": "execute_result"
    }
   ],
   "source": [
    "replace_vowels(\"Benjamin\")"
   ]
  },
  {
   "cell_type": "code",
   "execution_count": 27,
   "id": "political-manhattan",
   "metadata": {},
   "outputs": [],
   "source": [
    "def replace_vowels(string):\n",
    "    replacements = {\"a\" : 4, \"e\" : 3, \"i\" : 1, \"o\" : 0, \"u\" : 8}\n",
    "    revised = ''\n",
    "    for letter in string:\n",
    "        if letter in 'aeiou':\n",
    "            revised += str(replacements[letter])\n",
    "        else:\n",
    "            revised += letter\n",
    "    return revised        "
   ]
  },
  {
   "cell_type": "code",
   "execution_count": 28,
   "id": "incorrect-hughes",
   "metadata": {},
   "outputs": [
    {
     "data": {
      "text/plain": [
       "'B3nj4m1n'"
      ]
     },
     "execution_count": 28,
     "metadata": {},
     "output_type": "execute_result"
    }
   ],
   "source": [
    "replace_vowels(\"Benjamin\")"
   ]
  },
  {
   "cell_type": "code",
   "execution_count": null,
   "id": "faced-evolution",
   "metadata": {},
   "outputs": [],
   "source": []
  },
  {
   "cell_type": "code",
   "execution_count": null,
   "id": "danish-burst",
   "metadata": {},
   "outputs": [],
   "source": []
  }
 ],
 "metadata": {
  "kernelspec": {
   "display_name": "Python 3",
   "language": "python",
   "name": "python3"
  },
  "language_info": {
   "codemirror_mode": {
    "name": "ipython",
    "version": 3
   },
   "file_extension": ".py",
   "mimetype": "text/x-python",
   "name": "python",
   "nbconvert_exporter": "python",
   "pygments_lexer": "ipython3",
   "version": "3.7.9"
  }
 },
 "nbformat": 4,
 "nbformat_minor": 5
}
