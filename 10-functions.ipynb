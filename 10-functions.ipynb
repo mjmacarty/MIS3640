{
 "cells": [
  {
   "cell_type": "markdown",
   "id": "accompanied-wedding",
   "metadata": {},
   "source": [
    "# User Defined Functions\n",
    "* Allow for creation and management of larger programs\n",
    "* Allows for complexity to be separated from program flow\n",
    "* Can minmimize code redundency\n",
    "* Functions can be used to package scripts for use and reuse\n",
    "* Allow us to organize code more effectively\n",
    "* Types:\n",
    "    * no argument, no return value(s) (void)\n",
    "    * no argument, with return value(s)\n",
    "    * argument(s), no return value(s) (void)\n",
    "    * argument(s), with return value(s)\n",
    "* Technically, a function can only have one return value, but it can be a collection\n",
    "* Functions often used to encapsulate an important alogorithm"
   ]
  },
  {
   "cell_type": "markdown",
   "id": "common-closing",
   "metadata": {},
   "source": [
    "### PS 9"
   ]
  },
  {
   "cell_type": "code",
   "execution_count": 18,
   "id": "interesting-cleanup",
   "metadata": {},
   "outputs": [],
   "source": [
    "file = open('desolation_row.txt', 'r')"
   ]
  },
  {
   "cell_type": "code",
   "execution_count": 19,
   "id": "involved-tulsa",
   "metadata": {},
   "outputs": [],
   "source": [
    "data = file.read() "
   ]
  },
  {
   "cell_type": "code",
   "execution_count": 25,
   "id": "velvet-plaintiff",
   "metadata": {},
   "outputs": [
    {
     "data": {
      "text/plain": [
       "[\"they're\",\n",
       " 'selling',\n",
       " 'postcards',\n",
       " 'of',\n",
       " 'the',\n",
       " 'hanging',\n",
       " \"they're\",\n",
       " 'painting',\n",
       " 'the',\n",
       " 'passports']"
      ]
     },
     "execution_count": 25,
     "metadata": {},
     "output_type": "execute_result"
    }
   ],
   "source": [
    "punctuation = '.,;:!?\"'\n",
    "for mark in punctuation:\n",
    "    data = data.replace(mark, '')\n",
    "words = data.lower().strip().split()\n",
    "words[:10]"
   ]
  },
  {
   "cell_type": "code",
   "execution_count": 26,
   "id": "central-partner",
   "metadata": {},
   "outputs": [],
   "source": [
    "word_counts = {}\n",
    "for word in words:\n",
    "    if word not in word_counts:\n",
    "        word_counts[word] = 1\n",
    "    else:\n",
    "        word_counts[word] += 1"
   ]
  },
  {
   "cell_type": "code",
   "execution_count": 28,
   "id": "prostate-sixth",
   "metadata": {},
   "outputs": [
    {
     "data": {
      "text/plain": [
       "361"
      ]
     },
     "execution_count": 28,
     "metadata": {},
     "output_type": "execute_result"
    }
   ],
   "source": [
    "len(word_counts)"
   ]
  },
  {
   "cell_type": "code",
   "execution_count": 29,
   "id": "disabled-procurement",
   "metadata": {},
   "outputs": [
    {
     "data": {
      "text/plain": [
       "660"
      ]
     },
     "execution_count": 29,
     "metadata": {},
     "output_type": "execute_result"
    }
   ],
   "source": [
    "len(words)"
   ]
  },
  {
   "cell_type": "code",
   "execution_count": 38,
   "id": "productive-exposure",
   "metadata": {},
   "outputs": [],
   "source": [
    "from operator import itemgetter"
   ]
  },
  {
   "cell_type": "code",
   "execution_count": 41,
   "id": "detailed-heath",
   "metadata": {},
   "outputs": [
    {
     "name": "stdout",
     "output_type": "stream",
     "text": [
      "[('the', 42), ('and', 22), ('to', 19), ('is', 14), ('her', 12), ('in', 10), ('desolation', 10), ('row', 10), ('you', 9), ('of', 8), ('i', 8), ('a', 7), ('his', 7), ('on', 7), ('all', 7)]\n"
     ]
    }
   ],
   "source": [
    "sorted_words = sorted(word_counts.items(), key=itemgetter(1), reverse=True)[:15]\n",
    "print(sorted_words)"
   ]
  },
  {
   "cell_type": "code",
   "execution_count": 45,
   "id": "innovative-driver",
   "metadata": {},
   "outputs": [
    {
     "name": "stdout",
     "output_type": "stream",
     "text": [
      "Word           Count\n",
      "--------------------\n",
      "the               42\n",
      "and               22\n",
      "to                19\n",
      "is                14\n",
      "her               12\n",
      "in                10\n",
      "desolation        10\n",
      "row               10\n",
      "you                9\n",
      "of                 8\n",
      "i                  8\n",
      "a                  7\n",
      "his                7\n",
      "on                 7\n",
      "all                7\n"
     ]
    }
   ],
   "source": [
    "print(f\"{'Word':15}{'Count': >5}\")\n",
    "print(\"-\"* 20)\n",
    "for tuple in sorted_words:\n",
    "    print(f\"{tuple[0]:15}{tuple[1]:>5}\")"
   ]
  },
  {
   "cell_type": "code",
   "execution_count": 46,
   "id": "rough-asset",
   "metadata": {},
   "outputs": [],
   "source": [
    "from collections import Counter"
   ]
  },
  {
   "cell_type": "code",
   "execution_count": 50,
   "id": "vietnamese-billy",
   "metadata": {},
   "outputs": [],
   "source": [
    "counted_words = Counter(words)"
   ]
  },
  {
   "cell_type": "code",
   "execution_count": null,
   "id": "monetary-plasma",
   "metadata": {},
   "outputs": [],
   "source": [
    "counted_words.items()"
   ]
  },
  {
   "cell_type": "markdown",
   "id": "distinct-sweet",
   "metadata": {},
   "source": [
    "### Function Examples"
   ]
  },
  {
   "cell_type": "code",
   "execution_count": 56,
   "id": "happy-forestry",
   "metadata": {},
   "outputs": [],
   "source": [
    "# function placeholder\n",
    "def algorithm_to_be():\n",
    "    pass\n",
    "algorithm_to_be()"
   ]
  },
  {
   "cell_type": "code",
   "execution_count": 4,
   "id": "southern-stable",
   "metadata": {},
   "outputs": [
    {
     "name": "stdout",
     "output_type": "stream",
     "text": [
      "Babson College\n",
      "231 Forest St.\n",
      "Babson Park, MA 02457\n",
      "Babson College\n",
      "231 Forest St.\n",
      "Babson Park, MA 02457\n",
      "Babson College\n",
      "231 Forest St.\n",
      "Babson Park, MA 02457\n"
     ]
    }
   ],
   "source": [
    "def address():\n",
    "    print(\"Babson College\")\n",
    "    print(\"231 Forest St.\")\n",
    "    print(\"Babson Park, MA 02457\")\n",
    "#address() \n",
    "for i in range(3):\n",
    "    address()"
   ]
  },
  {
   "cell_type": "code",
   "execution_count": 61,
   "id": "nutritional-surname",
   "metadata": {},
   "outputs": [],
   "source": [
    "def address_return():\n",
    "    return f\"Babson College\\n231ForestSt\\nBabson Park\""
   ]
  },
  {
   "cell_type": "code",
   "execution_count": 65,
   "id": "coated-problem",
   "metadata": {},
   "outputs": [],
   "source": [
    "babson = address_return()"
   ]
  },
  {
   "cell_type": "code",
   "execution_count": 68,
   "id": "separate-franklin",
   "metadata": {},
   "outputs": [
    {
     "name": "stdout",
     "output_type": "stream",
     "text": [
      "Help on built-in function sqrt in module math:\n",
      "\n",
      "sqrt(x, /)\n",
      "    Return the square root of x.\n",
      "\n"
     ]
    }
   ],
   "source": [
    "import math\n",
    "def sqrt(number):\n",
    "    \"\"\"\n",
    "    returns the square root of number\n",
    "    \"\"\"\n",
    "    return number ** 0.5\n",
    "help(math.sqrt)    "
   ]
  },
  {
   "cell_type": "markdown",
   "id": "convertible-morrison",
   "metadata": {},
   "source": [
    "### Optional arguments"
   ]
  },
  {
   "cell_type": "code",
   "execution_count": 72,
   "id": "decimal-dover",
   "metadata": {},
   "outputs": [
    {
     "data": {
      "text/plain": [
       "1000"
      ]
     },
     "execution_count": 72,
     "metadata": {},
     "output_type": "execute_result"
    }
   ],
   "source": [
    "def cube_or_square(number, square=True):\n",
    "    if square:\n",
    "        return number ** 2\n",
    "    else:\n",
    "        return number ** 3\n",
    "cube_or_square(10, 0)    "
   ]
  },
  {
   "cell_type": "code",
   "execution_count": null,
   "id": "coordinate-prince",
   "metadata": {},
   "outputs": [],
   "source": []
  },
  {
   "cell_type": "markdown",
   "id": "elegant-ballot",
   "metadata": {},
   "source": [
    "### Boolean functions"
   ]
  },
  {
   "cell_type": "code",
   "execution_count": 74,
   "id": "rural-southeast",
   "metadata": {},
   "outputs": [
    {
     "data": {
      "text/plain": [
       "True"
      ]
     },
     "execution_count": 74,
     "metadata": {},
     "output_type": "execute_result"
    }
   ],
   "source": [
    "def is_odd(x):\n",
    "    if x % 2:\n",
    "        return True\n",
    "    else:\n",
    "        return False\n",
    "is_odd(3)    "
   ]
  },
  {
   "cell_type": "code",
   "execution_count": 75,
   "id": "saving-beads",
   "metadata": {},
   "outputs": [
    {
     "data": {
      "text/plain": [
       "[1, 3, 5, 7, 9]"
      ]
     },
     "execution_count": 75,
     "metadata": {},
     "output_type": "execute_result"
    }
   ],
   "source": [
    "list(filter(is_odd, range(1,11)))"
   ]
  },
  {
   "cell_type": "markdown",
   "id": "disabled-japanese",
   "metadata": {},
   "source": [
    "### Algorithmic functions"
   ]
  },
  {
   "cell_type": "code",
   "execution_count": 78,
   "id": "interstate-third",
   "metadata": {},
   "outputs": [
    {
     "data": {
      "text/plain": [
       "495550"
      ]
     },
     "execution_count": 78,
     "metadata": {},
     "output_type": "execute_result"
    }
   ],
   "source": [
    "def adder (low, high):\n",
    "    total = 0\n",
    "    while low <= high:\n",
    "        total += low\n",
    "        low += 1\n",
    "    return total\n",
    "\n",
    "adder(100,1000)"
   ]
  },
  {
   "cell_type": "code",
   "execution_count": 89,
   "id": "elementary-convertible",
   "metadata": {},
   "outputs": [
    {
     "data": {
      "text/plain": [
       "'4.75e6'"
      ]
     },
     "execution_count": 89,
     "metadata": {},
     "output_type": "execute_result"
    }
   ],
   "source": [
    "def scientific(number):\n",
    "    exp = 0\n",
    "    scientific = number\n",
    "    while scientific > 10:\n",
    "        scientific /= 10\n",
    "    while number > 10:\n",
    "        number //= 10\n",
    "        exp += 1\n",
    "    return f\"{scientific:.2f}e{exp}\"\n",
    "scientific(4751234)"
   ]
  },
  {
   "cell_type": "code",
   "execution_count": 90,
   "id": "practical-playback",
   "metadata": {},
   "outputs": [
    {
     "data": {
      "text/plain": [
       "4750000.0"
      ]
     },
     "execution_count": 90,
     "metadata": {},
     "output_type": "execute_result"
    }
   ],
   "source": [
    "float('4.75e6')"
   ]
  },
  {
   "cell_type": "code",
   "execution_count": null,
   "id": "sticky-forge",
   "metadata": {},
   "outputs": [],
   "source": []
  },
  {
   "cell_type": "markdown",
   "id": "inclusive-spoke",
   "metadata": {},
   "source": [
    "### Dicts: The Cure for Big Ugly if blocks"
   ]
  },
  {
   "cell_type": "code",
   "execution_count": null,
   "id": "human-flash",
   "metadata": {},
   "outputs": [],
   "source": []
  },
  {
   "cell_type": "code",
   "execution_count": 1,
   "id": "instant-printer",
   "metadata": {},
   "outputs": [],
   "source": []
  },
  {
   "cell_type": "code",
   "execution_count": 2,
   "id": "second-acoustic",
   "metadata": {},
   "outputs": [],
   "source": []
  },
  {
   "cell_type": "code",
   "execution_count": null,
   "id": "vocal-switch",
   "metadata": {},
   "outputs": [],
   "source": []
  },
  {
   "cell_type": "code",
   "execution_count": null,
   "id": "provincial-strategy",
   "metadata": {},
   "outputs": [],
   "source": []
  },
  {
   "cell_type": "code",
   "execution_count": null,
   "id": "internal-still",
   "metadata": {},
   "outputs": [],
   "source": []
  },
  {
   "cell_type": "code",
   "execution_count": null,
   "id": "magnetic-census",
   "metadata": {},
   "outputs": [],
   "source": []
  },
  {
   "cell_type": "code",
   "execution_count": null,
   "id": "superior-sleeve",
   "metadata": {},
   "outputs": [],
   "source": []
  },
  {
   "cell_type": "code",
   "execution_count": null,
   "id": "trained-recipient",
   "metadata": {},
   "outputs": [],
   "source": []
  },
  {
   "cell_type": "code",
   "execution_count": null,
   "id": "republican-oracle",
   "metadata": {},
   "outputs": [],
   "source": []
  },
  {
   "cell_type": "code",
   "execution_count": null,
   "id": "permanent-assignment",
   "metadata": {},
   "outputs": [],
   "source": []
  },
  {
   "cell_type": "code",
   "execution_count": null,
   "id": "fallen-battery",
   "metadata": {},
   "outputs": [],
   "source": []
  },
  {
   "cell_type": "code",
   "execution_count": null,
   "id": "systematic-speaker",
   "metadata": {},
   "outputs": [],
   "source": []
  },
  {
   "cell_type": "code",
   "execution_count": null,
   "id": "recognized-branch",
   "metadata": {},
   "outputs": [],
   "source": []
  },
  {
   "cell_type": "code",
   "execution_count": null,
   "id": "necessary-mechanics",
   "metadata": {},
   "outputs": [],
   "source": []
  }
 ],
 "metadata": {
  "kernelspec": {
   "display_name": "Python 3",
   "language": "python",
   "name": "python3"
  }
 },
 "nbformat": 4,
 "nbformat_minor": 5
}
